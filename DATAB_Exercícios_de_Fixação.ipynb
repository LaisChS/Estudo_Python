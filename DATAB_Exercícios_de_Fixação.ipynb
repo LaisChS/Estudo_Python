{
  "nbformat": 4,
  "nbformat_minor": 0,
  "metadata": {
    "colab": {
      "provenance": [],
      "collapsed_sections": [],
      "toc_visible": true,
      "authorship_tag": "ABX9TyNES8BJrEYPE1FU2lz28ObT",
      "include_colab_link": true
    },
    "kernelspec": {
      "name": "python3",
      "display_name": "Python 3"
    },
    "language_info": {
      "name": "python"
    }
  },
  "cells": [
    {
      "cell_type": "markdown",
      "metadata": {
        "id": "view-in-github",
        "colab_type": "text"
      },
      "source": [
        "<a href=\"https://colab.research.google.com/github/LaisChS/Estudo_Python/blob/dev/DATAB_Exerc%C3%ADcios_de_Fixa%C3%A7%C3%A3o.ipynb\" target=\"_parent\"><img src=\"https://colab.research.google.com/assets/colab-badge.svg\" alt=\"Open In Colab\"/></a>"
      ]
    },
    {
      "cell_type": "markdown",
      "source": [
        "*textc"
      ],
      "metadata": {
        "id": "EhPcpI609yyl"
      }
    },
    {
      "cell_type": "markdown",
      "source": [
        "# Lista 1\n"
      ],
      "metadata": {
        "id": "DNH-054VJgkN"
      }
    },
    {
      "cell_type": "code",
      "source": [
        "# 01 - Crie três variáveis, uma que contenha seu nome, idade e altura e imprima na tela.\n",
        "\n",
        "nome = \"Laís\"\n",
        "idade = 33\n",
        "altura = 1.60\n",
        "\n",
        "print(\"Menu nome é\", nome,\"tenho\", idade, \"e\", altura,\"de altura\")"
      ],
      "metadata": {
        "colab": {
          "base_uri": "https://localhost:8080/"
        },
        "id": "Y8pZCtrG-ybJ",
        "outputId": "e411836f-cc2a-4b63-a0d4-2bf675b9b21d"
      },
      "execution_count": null,
      "outputs": [
        {
          "output_type": "stream",
          "name": "stdout",
          "text": [
            "Menu nome é Laís tenho 33 e 1.6 de altura\n"
          ]
        }
      ]
    },
    {
      "cell_type": "code",
      "source": [
        "# 02 - Faça uma operação de adição e outra de multiplicação e atribua o resultado em uma variável e imprima na tela o resultado da divisão de ambas.\n",
        "\n",
        "adicao = 3 + 7\n",
        "\n",
        "multiplicacao = 3 * 2\n",
        "\n",
        "divisao = multiplicacao / adicao\n",
        "\n",
        "print (divisao)\n"
      ],
      "metadata": {
        "colab": {
          "base_uri": "https://localhost:8080/"
        },
        "id": "PAlao7N9_30X",
        "outputId": "1e0ff2df-6888-4524-940d-2e73ab3ea4e6"
      },
      "execution_count": null,
      "outputs": [
        {
          "output_type": "stream",
          "name": "stdout",
          "text": [
            "0.6\n"
          ]
        }
      ]
    },
    {
      "cell_type": "code",
      "source": [
        "# 03 - Imprima na tela o dia, mês e ano do seu nascimento\n",
        "\n",
        "dia = 27\n",
        "mes = 12\n",
        "ano = 1988\n",
        "\n",
        "txt = \"Nasci no dia {}/{}/{}\"\n",
        "\n",
        "print(txt.format(dia,mes,ano))"
      ],
      "metadata": {
        "colab": {
          "base_uri": "https://localhost:8080/"
        },
        "id": "NP2qYbBHAr8Y",
        "outputId": "d63592da-69d4-475c-e38d-340297833a49"
      },
      "execution_count": null,
      "outputs": [
        {
          "output_type": "stream",
          "name": "stdout",
          "text": [
            "Nasci no dia 27/12/1988\n"
          ]
        }
      ]
    },
    {
      "cell_type": "code",
      "source": [
        "\n",
        "# 04 - Faça 4 variáveis de cada um dos tipos de dados (string, int, float e bool) e imprima na tela o seu tipo (usar comando type)\n",
        "\n",
        "nome = \"Ana\"\n",
        "idade = 15\n",
        "altura = 1.50\n",
        "flag = True\n",
        "\n",
        "print(\"A variável nome é um(a):\",type(nome))\n",
        "print(\"A variável idade é um(a):\",type(idade))\n",
        "print(\"A variável altura é um(a):\",type(altura))\n",
        "print(\"A variável flag é um(a):\",type(flag))\n",
        "\n"
      ],
      "metadata": {
        "colab": {
          "base_uri": "https://localhost:8080/"
        },
        "id": "e5AciQqlCef1",
        "outputId": "671e00b1-23e3-4b2d-db9a-ec6f5af956e6"
      },
      "execution_count": null,
      "outputs": [
        {
          "output_type": "stream",
          "name": "stdout",
          "text": [
            "A variável nome é um(a): <class 'str'>\n",
            "A variável idade é um(a): <class 'int'>\n",
            "A variável altura é um(a): <class 'float'>\n",
            "A variável flag é um(a): <class 'bool'>\n"
          ]
        }
      ]
    },
    {
      "cell_type": "code",
      "source": [
        "# 05 - Faça um bloco de comando que receba 4 notas e considere seu respectivo peso como 1,3,5 e 7 e calcule a média ponderada e imprima na tela.\n",
        "\n",
        "n1 = 1\n",
        "n2 = 3\n",
        "n3 = 5\n",
        "n4 = 7\n",
        "\n",
        "soma = n1 + n2 + n3 + n4\n",
        "media = soma / 4\n",
        "\n",
        "print(\"A média das notas é:\", media)\n"
      ],
      "metadata": {
        "colab": {
          "base_uri": "https://localhost:8080/"
        },
        "id": "5b0dznEwEDnZ",
        "outputId": "27301726-788a-412e-c010-67ca768c93a0"
      },
      "execution_count": null,
      "outputs": [
        {
          "output_type": "stream",
          "name": "stdout",
          "text": [
            "A média das notas é: 4.0\n"
          ]
        }
      ]
    },
    {
      "cell_type": "code",
      "source": [
        "# 06 - Faça uma operação para cada um dos operadores aritméticos mostrados em aula (adição, subtração, multiplicação, divisão, exponenciação, divisão inteira e módulo)\n",
        "\n",
        "n1 = 5\n",
        "n2 = 2\n",
        "\n",
        "adicao = n1 + n2\n",
        "print(\"A adição entre 5 e 2 é :\",adicao)\n",
        "print(\"\\n\")\n",
        "\n",
        "subtracao = n1 - n2\n",
        "print(\"A Subtração entre 5 e 2 é :\",subtracao)\n",
        "print(\"\\n\")\n",
        "\n",
        "multiplicacao = n1 * n2 \n",
        "print(\"A multiplicação entre 5 e 2 é :\",multiplicacao)\n",
        "print(\"\\n\")\n",
        "\n",
        "divisao = n1 / n2 \n",
        "print(\"A divisão entre 5 e 2 é :\",divisao)\n",
        "print(\"\\n\")\n",
        "\n",
        "exponenciacao = n1 ** n2 \n",
        "print(\"A exponenciação entre 5 e 2 é :\",exponenciacao)\n",
        "print(\"\\n\")\n",
        "\n",
        "divisaoInteira = n1 // n2 \n",
        "print(\"A divisão inteira entre 5 e 2 é :\",divisaoInteira)\n",
        "print(\"\\n\")\n",
        "\n",
        "modulo = n1 % n2 \n",
        "print(\"O módulo entre 5 e 2 é :\",modulo)\n"
      ],
      "metadata": {
        "colab": {
          "base_uri": "https://localhost:8080/"
        },
        "id": "bQlGtoriEuzB",
        "outputId": "d8300eba-1fe7-46fe-a4cd-da9cb3a15556"
      },
      "execution_count": null,
      "outputs": [
        {
          "output_type": "stream",
          "name": "stdout",
          "text": [
            "A adição entre 5 e 2 é : 7\n",
            "\n",
            "\n",
            "A Subtração entre 5 e 2 é : 3\n",
            "\n",
            "\n",
            "A multiplicação entre 5 e 2 é : 10\n",
            "\n",
            "\n",
            "A divisão entre 5 e 2 é : 2.5\n",
            "\n",
            "\n",
            "A exponenciação entre 5 e 2 é : 25\n",
            "\n",
            "\n",
            "A divisão inteira entre 5 e 2 é : 2\n",
            "\n",
            "\n",
            "O módulo entre 5 e 2 é : 1\n"
          ]
        }
      ]
    },
    {
      "cell_type": "code",
      "source": [
        "# 07 - Utilizando a função input, crie um bloco de comando que receba a distância percorrida por um veículo e seu consumo em litros e calcule a média por litro e imprima na tela\n",
        "\n",
        "distancia = float(input(\"Digite a distância percorrida:\"))\n",
        "\n",
        "qtd_litros = float(input(\"Digite a quantidade de litros gasta:\"))\n",
        "\n",
        "media =  qtd_litros / distancia\n",
        "\n",
        "txt = \"Para a distancia de {0} Km, foram gastos {1} Litros. Dando a média de {2:.2f} litros por Km\"\n",
        "print(txt.format(distancia, qtd_litros,media))"
      ],
      "metadata": {
        "colab": {
          "base_uri": "https://localhost:8080/"
        },
        "id": "IZCeR9zAI2me",
        "outputId": "289c872f-7a74-4fd6-df18-5b94765d4bdd"
      },
      "execution_count": null,
      "outputs": [
        {
          "output_type": "stream",
          "name": "stdout",
          "text": [
            "Digite a distância percorrida:10\n",
            "Digite a quantidade de litros gasta:2\n",
            "Para a distancia de 10.0 Km, foram gastos 2.0 Litros. Dando a média de 0.20 litros por Km\n"
          ]
        }
      ]
    },
    {
      "cell_type": "code",
      "source": [
        "# 08 - Considere que o metro de uma grade metálica custe R$11,20 e um cliente deseja comprar 16 metros. O cliente deseja pagar parcelado, onde haverá um acréscimo de 12%. Calcule o valor total que o cliente irá pagar e imprima na tela.\n",
        "\n",
        "valor_metro = 11.20\n",
        "qtd_metro = 16\n",
        "\n",
        "total_pago = (valor_metro * qtd_metro) * 0.12\n",
        "\n",
        "print(\"O valor total será R$\", round(total_pago,2))"
      ],
      "metadata": {
        "colab": {
          "base_uri": "https://localhost:8080/"
        },
        "id": "qeM5fhr-Lu7s",
        "outputId": "cd468046-0f63-4260-c559-50d25665abde"
      },
      "execution_count": null,
      "outputs": [
        {
          "output_type": "stream",
          "name": "stdout",
          "text": [
            "O valor total será R$ 21.5\n"
          ]
        }
      ]
    },
    {
      "cell_type": "code",
      "source": [
        "# 09 - Faça um programa que calcule a área de um círculo ( considere Área = π r² e π = 3,14). Faça um input que receba o valor do raio e imprima o valor da área na tela. \n",
        "\n",
        "raio = float(input(\"Informe o valor do raio:\"))\n",
        "\n",
        "pi = 3.14\n",
        "area = pi * (raio ** 2)\n",
        "\n",
        "txt = \"Para o raio de {} o valor da área é {}.\"\n",
        "print(txt.format(raio, area))\n",
        "\n"
      ],
      "metadata": {
        "colab": {
          "base_uri": "https://localhost:8080/"
        },
        "id": "-lzTRNR1ho4h",
        "outputId": "a2e6b63a-eee6-40fa-b79e-990cc5138597"
      },
      "execution_count": null,
      "outputs": [
        {
          "output_type": "stream",
          "name": "stdout",
          "text": [
            "Informe o valor do raio:15\n",
            "Para o raio de 15.0 o valor da área é 706.5.\n"
          ]
        }
      ]
    },
    {
      "cell_type": "code",
      "source": [
        "# 10 - Faça um programa que receba a distância de um local em quilômetros e a velocidade média e mostre na tela em quanto tempo é necessário para se chegar no destino.\n",
        "\n",
        "distancia = float(input(\"Informe a distância percorrida Km:\"))\n",
        "\n",
        "velocidade = float(input(\"Informe a velocidade:\"))\n",
        "\n",
        "tempo =   distancia / velocidade\n",
        "\n",
        "txt = \"É possível percorrer {} Km em {} horas.\"\n",
        "print(txt.format(distancia, round(tempo,2)))\n",
        "\n",
        "\n",
        "\n"
      ],
      "metadata": {
        "colab": {
          "base_uri": "https://localhost:8080/"
        },
        "id": "wghu7SbVj8Hs",
        "outputId": "5183c8a7-dd1d-489b-b853-1e8dda15d93b"
      },
      "execution_count": null,
      "outputs": [
        {
          "output_type": "stream",
          "name": "stdout",
          "text": [
            "Informe a distância percorrida Km:10\n",
            "Informe a velocidade:2\n",
            "É possível percorrer 10.0 Km em 5.0 horas.\n"
          ]
        }
      ]
    },
    {
      "cell_type": "markdown",
      "source": [
        "# Lista 2\n"
      ],
      "metadata": {
        "id": "9urcv7SKJ0Kx"
      }
    },
    {
      "cell_type": "code",
      "source": [
        "# 01 - Faça um programa que receba um número e imprima na tela informando se ele é par ou ímpar.\n",
        "\n",
        "n = int(input(\"Digite um número:\"))\n",
        "\n",
        "if n % 2 == 0:\n",
        "  print(\"O número é par\")\n",
        "else:\n",
        "  print(\"O número é ímpar\")"
      ],
      "metadata": {
        "id": "31lkp1h0J5OH",
        "outputId": "5beb819c-4b57-40e1-f3a1-e86ca870f653",
        "colab": {
          "base_uri": "https://localhost:8080/"
        }
      },
      "execution_count": null,
      "outputs": [
        {
          "output_type": "stream",
          "name": "stdout",
          "text": [
            "Digite um número:5\n",
            "O número é ímpar\n"
          ]
        }
      ]
    },
    {
      "cell_type": "code",
      "source": [
        "# 02 - Faça um programa onde o cliente possa digitar o valor de um empréstimo e em quantas vezes ele deseja parcelar, \n",
        "\t   # calcule e imprima o valor que ele irá pagar acrescido dos juros\n",
        "\t   \n",
        "\t\t# * Parcelar em menos de 15 vezes: 9% de juros\n",
        "\t\t# * Parcelar em mais de 15 vezes: 13% de juros\n",
        "\n",
        "\n",
        "vl_emprestimo = float(input(\"Digite o valor do empréstimo:\"))\n",
        "\n",
        "qtd_parcelas = int(input(\"Digite o valor das parcelas:\"))\n",
        "\n",
        "\n",
        "if qtd_parcelas < 15:\n",
        "    juros = 9\n",
        "else:\n",
        "    juros = 13\n",
        "\n",
        "total_emprestimo = vl_emprestimo + (vl_emprestimo * (juros/100))\n",
        "\n",
        "txt = \"Ao pegar R${} parcelado em {} vezes, terá o juros de {}% e o valor total do empréstimo será R${}.\"\n",
        "print(txt.format(vl_emprestimo, qtd_parcelas, juros , total_emprestimo))\n",
        "\n",
        "\n"
      ],
      "metadata": {
        "colab": {
          "base_uri": "https://localhost:8080/"
        },
        "id": "5AC2oKlGMqlu",
        "outputId": "6011b2dc-2f5f-4706-9966-2adcea5127e4"
      },
      "execution_count": null,
      "outputs": [
        {
          "output_type": "stream",
          "name": "stdout",
          "text": [
            "Digite o valor do empréstimo:1000\n",
            "Digite o valor das parcelas:16\n",
            "Ao pegar R$1000.0 parcelado em 16 vezes, terá o juros de 13% e o valor total do empréstimo será R$1130.0.\n"
          ]
        }
      ]
    },
    {
      "cell_type": "code",
      "source": [
        "# 03 - Faça um programa que receba dois números e o caractere da operação desejada (adição, subtração, multiplicação, divisão, exponenciação, divisão inteira\n",
        "\t\t# e módulo) e imprima o resultado na tela\n",
        "\n",
        "n1 = float(input(\"Informe o primeiro número:\"))\n",
        "\n",
        "n2 = float(input(\"Informe o segundo número:\"))\n",
        "\n",
        "operacao = input(\"Informe a operação desejada:\")\n",
        "\n",
        "\n",
        "if operacao == \"+\":\n",
        "  resultado = n1 + n2\n",
        "elif operacao == \"-\":\n",
        "  resultado = n1 - n2\n",
        "elif operacao == \"*\":\n",
        "  resultado = n1 * n2\n",
        "elif operacao == \"/\":\n",
        "  resultado = n1 / n2\n",
        "elif operacao == \"%\": # módulo\n",
        "  resultado = n1 % n2\n",
        "elif operacao == \"**\": # exponenciação\n",
        "  resultado = n1 ** n2\n",
        "elif operacao == \"//\": # divisão inteira\n",
        "  resultado = n1 // n2\n",
        "\n",
        "txt = \"O resultado de {} {} {} = {}\"\n",
        "\n",
        "print(txt.format(n1, operacao, n2, resultado))\n",
        "\n",
        "\n",
        "\n",
        "\n"
      ],
      "metadata": {
        "colab": {
          "base_uri": "https://localhost:8080/"
        },
        "id": "HzFC2aeJRVqu",
        "outputId": "c9dbcb32-a660-425c-ab2b-d6d6c7b2ba5a"
      },
      "execution_count": null,
      "outputs": [
        {
          "output_type": "stream",
          "name": "stdout",
          "text": [
            "Informe o primeiro número:4\n",
            "Informe o segundo número:2\n",
            "Informe a operação desejada:/\n",
            "O resultado de 4.0 / 2.0 = 2.0\n"
          ]
        }
      ]
    },
    {
      "cell_type": "code",
      "source": [
        "# 04 - Faça um programa que receba um valor inicial (valor presente), uma taxa de juros e a quantidade de parcelas. Após a coleta desses dados, o programa\n",
        "\t\t# deverá retornar com o valor final (valor futuro), levando em consideração que os juros são compostos, ou seja, juros sobre juros.\n",
        "\t\t\n",
        "\t\t# * VP = Valor presente; VF = Valor futuro; i = Taxa de juros; n = Período\n",
        "\t\t\n",
        "\t\t# VF = VP * (1 + i ) n\n",
        "\n",
        "\n",
        "VP = float(input(\"Informe o valor presente:\"))\n",
        "\n",
        "i = float(input(\"Informe a taxa de juros:\")) / 100\n",
        "\n",
        "n = int(input(\"Informe a quantidade de parcelas:\"))\n",
        "\n",
        "VF = VP * (1 + i ) **n\n",
        "\n",
        "print(\"O resultado será\", round(VF,2))\n"
      ],
      "metadata": {
        "colab": {
          "base_uri": "https://localhost:8080/"
        },
        "id": "qAlx1YJhVyWA",
        "outputId": "e23d960d-8d14-4e08-8c67-c5170e97a755"
      },
      "execution_count": null,
      "outputs": [
        {
          "output_type": "stream",
          "name": "stdout",
          "text": [
            "Informe o valor presente:100\n",
            "Informe a taxa de juros:2.5\n",
            "Informe a quantidade de parcelas:5\n",
            "O resultado será 113.14\n"
          ]
        }
      ]
    },
    {
      "cell_type": "code",
      "source": [
        "# 05 - Para a emancipação de u distrito municipal é importante considerar o número de habitantes dos distrito e a região em que o distrito está. \n",
        "\t\t# As regiões contempladas serão a região Sul e Sudeste. Faça um programa que ao ler a região e o número de habitantes imprima a mensagem\n",
        "\t\t# se o distrito está apto para ser emancipado ou não. Observe os critérios e cálculos envolvidos:\n",
        "\t\t\n",
        "\t\t# * Região Sudeste - superior a 250 mil habitantes\n",
        "\t\t# * Para região Sul - superior ou igual a 165 mil habitantes\n",
        "\n",
        "\n",
        "regiao = input(\"Informe a região desejada (Sudeste / Sul):\")\n",
        "\n",
        "habitantes = int(input(\"Informe a quantidade de habitantes:\"))\n",
        "\n",
        "if regiao == \"Sudeste\": \n",
        "  if habitantes > 250000:\n",
        "    print(\"Região Sudeste está apta\")\n",
        "  else:\n",
        "    print(\"Região Sudeste não está apta\")\n",
        "elif regiao == \"Sul\": \n",
        "  if habitantes >= 165000:\n",
        "    print(\"Região Sul está apta\")\n",
        "  else:\n",
        "    print(\"Região Sul não está apta\")\n",
        "\n"
      ],
      "metadata": {
        "colab": {
          "base_uri": "https://localhost:8080/"
        },
        "id": "Avph49qMaUJX",
        "outputId": "f1bea4c6-f6bc-4465-856a-a88c168db63b"
      },
      "execution_count": null,
      "outputs": [
        {
          "output_type": "stream",
          "name": "stdout",
          "text": [
            "Informe a região desejada (Sudeste / Sul):Sudeste\n",
            "Informe a quantidade de habitantes:260000\n",
            "Região Sudeste está apta\n"
          ]
        }
      ]
    },
    {
      "cell_type": "code",
      "source": [
        "# 06 - Os pet shops cada vez mais têm utilizado as mídias sociais para fazerem propagandas dos serviços prestados. Por conta desta inovação, foi \n",
        "\t\t# solicitado um programa para calcular os valores recebidos mensalmente. Faça um programa que leia a quantidade de banhos e tosa realizados\n",
        "\t\t# por dia e seu respectivo valor, calcule e imprima na tela o valor total recebido no mês (considerar o mês com 30 dias)\n",
        "\n",
        "\n",
        "qtd_banho = int(input(\"Informe a qtd de banho por dia \"))\n",
        "vl_banho = int(input(\"Informe o valor do banho por dia \"))\n",
        "\n",
        "qtd_tosa = int(input(\"Informe a qtd tosa por dia \"))\n",
        "vl_tosa = int(input(\"Informe o valor da tosa por dia \"))\n",
        "\n",
        "total_recebido = ((qtd_banho * vl_banho) + (qtd_tosa * vl_tosa)) * 30\n",
        "\n",
        "print(\"O total recebido é R$\", total_recebido)\n",
        "\n",
        "\n",
        "\n"
      ],
      "metadata": {
        "colab": {
          "base_uri": "https://localhost:8080/"
        },
        "id": "8P7hGlFJfAmt",
        "outputId": "46ce21b5-0da7-4b11-814f-63c48cf2a939"
      },
      "execution_count": null,
      "outputs": [
        {
          "output_type": "stream",
          "name": "stdout",
          "text": [
            "Informe a qtd de banho por dia 5\n",
            "Informe o valor do banho por dia 10\n",
            "Informe a qtd tosa por dia5\n",
            "Informe o valor da tosa por dia20\n",
            "O total recebido é R$ 4500\n"
          ]
        }
      ]
    },
    {
      "cell_type": "code",
      "source": [
        "# 07 - Faça um programa que receba dois números e imprima na tela qual o maior número.\n",
        "\n",
        "n1 = float(input(\"Informe o primeiro número: \"))\n",
        "\n",
        "n2 = float(input(\"Informe o segundo número: \"))\n",
        "\n",
        "if n1 > n2:\n",
        "  print(\"O número \", n1, \" é maior do que \", n2)\n",
        "else:\n",
        "  print(\"O número \", n2, \" é maior do que \", n1)"
      ],
      "metadata": {
        "colab": {
          "base_uri": "https://localhost:8080/"
        },
        "id": "QiKgGYzIhNi0",
        "outputId": "af01d46c-36dd-4733-bc24-ffac101142fc"
      },
      "execution_count": null,
      "outputs": [
        {
          "output_type": "stream",
          "name": "stdout",
          "text": [
            "Informe o primeiro número: 2.5\n",
            "Informe o segundo número: 8\n",
            "O número  8.0  é maior do que  2.5\n"
          ]
        }
      ]
    },
    {
      "cell_type": "code",
      "source": [
        "# 08 - Alguns candidatos desejam saber as intenções de votos de seu eleitorado e se serão eleitos no primeiro turno ou se irão para o segundo turno.\n",
        "\t# Faça um programa que leia o nome do município, a quantidade de eleitores aptos, o número de votos do candidato e informe se ele terá ou não segundo\n",
        "\t# turno em sua eleição municipal. Considerar:\n",
        "\t\n",
        "\t# * O sistema eleitoral com dois turnos é um sistema de votação utilizado para que o candidato eleito tenha mais de 50% dos votos do eleitorado.\n",
        "\t# * Somente os municípios que possuem mais de 20.000 eleitores aptos tem segundo turno nas eleições para prefeito.\n",
        "\t\n",
        "municipio = input(\"Informe o nome do município: \") \n",
        "qtd_aptos = int(input(\"Informe a quantidade de eleitores aptps: \"))\n",
        "votos_candidato = int(input(\"Informe a quantidade de votos do candidato: \"))\n",
        "\n",
        "\n",
        "if votos_candidato > (qtd_aptos * 0.5):\n",
        "\tprint(\"O candidato do municipio {} não terá segundo turno\".format(municipio))\n",
        "else:\n",
        "\tif qtd_aptos > 20000:\n",
        "\t\tprint(\"O candidato do municipio {} terá segundo turno\".format(municipio))\n",
        "  "
      ],
      "metadata": {
        "id": "DuvK-YW2huok",
        "colab": {
          "base_uri": "https://localhost:8080/"
        },
        "outputId": "b88d94c3-7f52-4e6d-d515-3729721f8379"
      },
      "execution_count": 6,
      "outputs": [
        {
          "output_type": "stream",
          "name": "stdout",
          "text": [
            "Informe o nome do município: m\n",
            "Informe a quantidade de eleitores aptps: 50000\n",
            "Informe a quantidade de votos do candidato: 19000\n",
            "O candidato do municipio m terá segundo turno\n"
          ]
        }
      ]
    },
    {
      "cell_type": "code",
      "source": [
        "# 09 - Utilizando o método format, faça um programa que receba o nome de um produto, a quantidade, preço unitário e calcule o valor total. O programa deverá\n",
        "\t# informar se esse valor ultrapassou ou não R$ 100 reais, além de imprimir na tela todas as informações coletacas.\n",
        "\n",
        "\n",
        "produto = input(\"Informe o nome do produto: \")\n",
        "quantidade = float(input(\"Informe a quantidade: \"))\n",
        "vl_unitario = float(input(\"Informe o valor unitário R$: \"))\n",
        "\n",
        "vl_total = vl_unitario * quantidade\n",
        "\n",
        "if vl_total > 100:\n",
        "  msg = \"o valor da compra ultrapassou R$ 100,00\"\n",
        "else:\n",
        "  msg = \"o valor da compra não ultrapassou R$ 100,00\"\n",
        "\n",
        "print(\"O produto {} teve {} unidade(s) vendidas, no valor de R${} cada, totalizando R${}. Sendo assim, {}.\".format(produto,quantidade,vl_unitario, vl_total, msg))\n",
        "\n",
        "\n",
        "\n",
        "\n",
        "\n",
        "\n"
      ],
      "metadata": {
        "colab": {
          "base_uri": "https://localhost:8080/"
        },
        "id": "Kv4kJK_ceb-l",
        "outputId": "054c501b-f872-477d-addd-1c8b0a4ec65f"
      },
      "execution_count": null,
      "outputs": [
        {
          "output_type": "stream",
          "name": "stdout",
          "text": [
            "Informe o nome do produto: m\n",
            "Informe a quantidade: 50\n",
            "Informe o valor unitário R$: 10.00\n",
            "O produto m teve 50.0 unidade(s) vendidas, no valor de R$10.0 cada, totalizando R$500.0. Sendo assim, o valor da compra ultrapassou R$ 100,00.\n"
          ]
        }
      ]
    },
    {
      "cell_type": "markdown",
      "source": [],
      "metadata": {
        "id": "evNG1G7cfBIc"
      }
    }
  ]
}