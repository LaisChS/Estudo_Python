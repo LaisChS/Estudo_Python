{
  "nbformat": 4,
  "nbformat_minor": 0,
  "metadata": {
    "colab": {
      "name": "DATAB - Exercícios de Fixação.ipynb",
      "provenance": [],
      "collapsed_sections": [],
      "toc_visible": true,
      "authorship_tag": "ABX9TyN0H7vvQVOPnBgS3ZAPx0xq",
      "include_colab_link": true
    },
    "kernelspec": {
      "name": "python3",
      "display_name": "Python 3"
    },
    "language_info": {
      "name": "python"
    }
  },
  "cells": [
    {
      "cell_type": "markdown",
      "metadata": {
        "id": "view-in-github",
        "colab_type": "text"
      },
      "source": [
        "<a href=\"https://colab.research.google.com/github/LaisChS/Estudo_Python/blob/dev/DATAB_Exerc%C3%ADcios_de_Fixa%C3%A7%C3%A3o.ipynb\" target=\"_parent\"><img src=\"https://colab.research.google.com/assets/colab-badge.svg\" alt=\"Open In Colab\"/></a>"
      ]
    },
    {
      "cell_type": "markdown",
      "source": [
        "*textc"
      ],
      "metadata": {
        "id": "EhPcpI609yyl"
      }
    },
    {
      "cell_type": "markdown",
      "source": [
        "# Lista 1"
      ],
      "metadata": {
        "id": "1tj_BGcv9y1-"
      }
    },
    {
      "cell_type": "code",
      "source": [
        "# 01 - Crie três variáveis, uma que contenha seu nome, idade e altura e imprima na tela.\n",
        "\n",
        "nome = \"Laís\"\n",
        "idade = 33\n",
        "altura = 1.60\n",
        "\n",
        "print(\"Menu nome é\", nome,\"tenho\", idade, \"e\", altura,\"de altura\")"
      ],
      "metadata": {
        "colab": {
          "base_uri": "https://localhost:8080/"
        },
        "id": "Y8pZCtrG-ybJ",
        "outputId": "e411836f-cc2a-4b63-a0d4-2bf675b9b21d"
      },
      "execution_count": 3,
      "outputs": [
        {
          "output_type": "stream",
          "name": "stdout",
          "text": [
            "Menu nome é Laís tenho 33 e 1.6 de altura\n"
          ]
        }
      ]
    },
    {
      "cell_type": "code",
      "source": [
        "# 02 - Faça uma operação de adição e outra de multiplicação e atribua o resultado em uma variável e imprima na tela o resultado da divisão de ambas.\n",
        "\n",
        "adicao = 3 + 7\n",
        "\n",
        "multiplicacao = 3 * 2\n",
        "\n",
        "divisao = multiplicacao / adicao\n",
        "\n",
        "print (divisao)\n"
      ],
      "metadata": {
        "colab": {
          "base_uri": "https://localhost:8080/"
        },
        "id": "PAlao7N9_30X",
        "outputId": "1e0ff2df-6888-4524-940d-2e73ab3ea4e6"
      },
      "execution_count": 4,
      "outputs": [
        {
          "output_type": "stream",
          "name": "stdout",
          "text": [
            "0.6\n"
          ]
        }
      ]
    },
    {
      "cell_type": "code",
      "source": [
        "# 03 - Imprima na tela o dia, mês e ano do seu nascimento\n",
        "\n",
        "dia = 27\n",
        "mes = 12\n",
        "ano = 1988\n",
        "\n",
        "txt = \"Nasci no dia {}/{}/{}\"\n",
        "\n",
        "print(txt.format(dia,mes,ano))"
      ],
      "metadata": {
        "colab": {
          "base_uri": "https://localhost:8080/"
        },
        "id": "NP2qYbBHAr8Y",
        "outputId": "d63592da-69d4-475c-e38d-340297833a49"
      },
      "execution_count": 7,
      "outputs": [
        {
          "output_type": "stream",
          "name": "stdout",
          "text": [
            "Nasci no dia 27/12/1988\n"
          ]
        }
      ]
    },
    {
      "cell_type": "code",
      "source": [
        "\n",
        "# 04 - Faça 4 variáveis de cada um dos tipos de dados (string, int, float e bool) e imprima na tela o seu tipo (usar comando type)\n",
        "\n",
        "nome = \"Ana\"\n",
        "idade = 15\n",
        "altura = 1.50\n",
        "flag = True\n",
        "\n",
        "print(\"A variável nome é um(a):\",type(nome))\n",
        "print(\"A variável idade é um(a):\",type(idade))\n",
        "print(\"A variável altura é um(a):\",type(altura))\n",
        "print(\"A variável flag é um(a):\",type(flag))\n",
        "\n"
      ],
      "metadata": {
        "colab": {
          "base_uri": "https://localhost:8080/"
        },
        "id": "e5AciQqlCef1",
        "outputId": "671e00b1-23e3-4b2d-db9a-ec6f5af956e6"
      },
      "execution_count": 62,
      "outputs": [
        {
          "output_type": "stream",
          "name": "stdout",
          "text": [
            "A variável nome é um(a): <class 'str'>\n",
            "A variável idade é um(a): <class 'int'>\n",
            "A variável altura é um(a): <class 'float'>\n",
            "A variável flag é um(a): <class 'bool'>\n"
          ]
        }
      ]
    },
    {
      "cell_type": "code",
      "source": [
        "# 05 - Faça um bloco de comando que receba 4 notas e considere seu respectivo peso como 1,3,5 e 7 e calcule a média ponderada e imprima na tela.\n",
        "\n",
        "n1 = 1\n",
        "n2 = 3\n",
        "n3 = 5\n",
        "n4 = 7\n",
        "\n",
        "soma = n1 + n2 + n3 + n4\n",
        "media = soma / 4\n",
        "\n",
        "print(\"A média das notas é:\", media)\n"
      ],
      "metadata": {
        "colab": {
          "base_uri": "https://localhost:8080/"
        },
        "id": "5b0dznEwEDnZ",
        "outputId": "27301726-788a-412e-c010-67ca768c93a0"
      },
      "execution_count": 15,
      "outputs": [
        {
          "output_type": "stream",
          "name": "stdout",
          "text": [
            "A média das notas é: 4.0\n"
          ]
        }
      ]
    },
    {
      "cell_type": "code",
      "source": [
        "# 06 - Faça uma operação para cada um dos operadores aritméticos mostrados em aula (adição, subtração, multiplicação, divisão, exponenciação, divisão inteira e módulo)\n",
        "\n",
        "n1 = 5\n",
        "n2 = 2\n",
        "\n",
        "adicao = n1 + n2\n",
        "print(\"A adição entre 5 e 2 é :\",adicao)\n",
        "print(\"\\n\")\n",
        "\n",
        "subtracao = n1 - n2\n",
        "print(\"A Subtração entre 5 e 2 é :\",subtracao)\n",
        "print(\"\\n\")\n",
        "\n",
        "multiplicacao = n1 * n2 \n",
        "print(\"A multiplicação entre 5 e 2 é :\",multiplicacao)\n",
        "print(\"\\n\")\n",
        "\n",
        "divisao = n1 / n2 \n",
        "print(\"A divisão entre 5 e 2 é :\",divisao)\n",
        "print(\"\\n\")\n",
        "\n",
        "exponenciacao = n1 ** n2 \n",
        "print(\"A exponenciação entre 5 e 2 é :\",exponenciacao)\n",
        "print(\"\\n\")\n",
        "\n",
        "divisaoInteira = n1 // n2 \n",
        "print(\"A divisão inteira entre 5 e 2 é :\",divisaoInteira)\n",
        "print(\"\\n\")\n",
        "\n",
        "modulo = n1 % n2 \n",
        "print(\"O módulo entre 5 e 2 é :\",modulo)\n"
      ],
      "metadata": {
        "colab": {
          "base_uri": "https://localhost:8080/"
        },
        "id": "bQlGtoriEuzB",
        "outputId": "d8300eba-1fe7-46fe-a4cd-da9cb3a15556"
      },
      "execution_count": 30,
      "outputs": [
        {
          "output_type": "stream",
          "name": "stdout",
          "text": [
            "A adição entre 5 e 2 é : 7\n",
            "\n",
            "\n",
            "A Subtração entre 5 e 2 é : 3\n",
            "\n",
            "\n",
            "A multiplicação entre 5 e 2 é : 10\n",
            "\n",
            "\n",
            "A divisão entre 5 e 2 é : 2.5\n",
            "\n",
            "\n",
            "A exponenciação entre 5 e 2 é : 25\n",
            "\n",
            "\n",
            "A divisão inteira entre 5 e 2 é : 2\n",
            "\n",
            "\n",
            "O módulo entre 5 e 2 é : 1\n"
          ]
        }
      ]
    },
    {
      "cell_type": "code",
      "source": [
        "# 07 - Utilizando a função input, crie um bloco de comando que receba a distância percorrida por um veículo e seu consumo em litros e calcule a média por litro e imprima na tela\n",
        "\n",
        "distancia = float(input(\"Digite a distância percorrida:\"))\n",
        "\n",
        "qtd_litros = float(input(\"Digite a quantidade de litros gasta:\"))\n",
        "\n",
        "media =  qtd_litros / distancia\n",
        "\n",
        "txt = \"Para a distancia de {0} Km, foram gastos {1} Litros. Dando a média de {2:.2f} litros por Km\"\n",
        "print(txt.format(distancia, qtd_litros,media))"
      ],
      "metadata": {
        "colab": {
          "base_uri": "https://localhost:8080/"
        },
        "id": "IZCeR9zAI2me",
        "outputId": "289c872f-7a74-4fd6-df18-5b94765d4bdd"
      },
      "execution_count": 60,
      "outputs": [
        {
          "output_type": "stream",
          "name": "stdout",
          "text": [
            "Digite a distância percorrida:10\n",
            "Digite a quantidade de litros gasta:2\n",
            "Para a distancia de 10.0 Km, foram gastos 2.0 Litros. Dando a média de 0.20 litros por Km\n"
          ]
        }
      ]
    },
    {
      "cell_type": "code",
      "source": [
        "# 08 - Considere que o metro de uma grade metálica custe R$11,20 e um cliente deseja comprar 16 metros. O cliente deseja pagar parcelado, onde haverá um acréscimo de 12%. Calcule o valor total que o cliente irá pagar e imprima na tela.\n",
        "\n",
        "valor_metro = 11.20\n",
        "qtd_metro = 16\n",
        "\n",
        "total_pago = (valor_metro * qtd_metro) * 0.12\n",
        "\n",
        "print(\"O valor total será R$\", round(total_pago,2))"
      ],
      "metadata": {
        "colab": {
          "base_uri": "https://localhost:8080/"
        },
        "id": "qeM5fhr-Lu7s",
        "outputId": "cd468046-0f63-4260-c559-50d25665abde"
      },
      "execution_count": 41,
      "outputs": [
        {
          "output_type": "stream",
          "name": "stdout",
          "text": [
            "O valor total será R$ 21.5\n"
          ]
        }
      ]
    },
    {
      "cell_type": "code",
      "source": [
        "# 09 - Faça um programa que calcule a área de um círculo ( considere Área = π r² e π = 3,14). Faça um input que receba o valor do raio e imprima o valor da área na tela. \n",
        "\n",
        "raio = float(input(\"Informe o valor do raio:\"))\n",
        "\n",
        "pi = 3.14\n",
        "area = pi * (raio ** 2)\n",
        "\n",
        "txt = \"Para o raio de {} o valor da área é {}.\"\n",
        "print(txt.format(raio, area))\n",
        "\n"
      ],
      "metadata": {
        "colab": {
          "base_uri": "https://localhost:8080/"
        },
        "id": "-lzTRNR1ho4h",
        "outputId": "a2e6b63a-eee6-40fa-b79e-990cc5138597"
      },
      "execution_count": 44,
      "outputs": [
        {
          "output_type": "stream",
          "name": "stdout",
          "text": [
            "Informe o valor do raio:15\n",
            "Para o raio de 15.0 o valor da área é 706.5.\n"
          ]
        }
      ]
    },
    {
      "cell_type": "code",
      "source": [
        "# 10 - Faça um programa que receba a distância de um local em quilômetros e a velocidade média e mostre na tela em quanto tempo é necessário para se chegar no destino.\n",
        "\n",
        "distancia = float(input(\"Informe a distância percorrida Km:\"))\n",
        "\n",
        "velocidade = float(input(\"Informe a velocidade:\"))\n",
        "\n",
        "tempo =   distancia / velocidade\n",
        "\n",
        "txt = \"É possível percorrer {} Km em {} horas.\"\n",
        "print(txt.format(distancia, round(tempo,2)))\n",
        "\n",
        "\n",
        "\n"
      ],
      "metadata": {
        "colab": {
          "base_uri": "https://localhost:8080/"
        },
        "id": "wghu7SbVj8Hs",
        "outputId": "5183c8a7-dd1d-489b-b853-1e8dda15d93b"
      },
      "execution_count": 61,
      "outputs": [
        {
          "output_type": "stream",
          "name": "stdout",
          "text": [
            "Informe a distância percorrida Km:10\n",
            "Informe a velocidade:2\n",
            "É possível percorrer 10.0 Km em 5.0 horas.\n"
          ]
        }
      ]
    }
  ]
}